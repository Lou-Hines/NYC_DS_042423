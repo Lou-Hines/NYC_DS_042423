{
 "cells": [
  {
   "cell_type": "markdown",
   "metadata": {
    "cell_style": "center",
    "slideshow": {
     "slide_type": "slide"
    }
   },
   "source": [
    "<div style=\"color:white;\n",
    "           display:fill;\n",
    "           border-radius:5px;\n",
    "           background-color:#5642C5;\n",
    "           font-size:200%;\n",
    "           font-family:Arial;letter-spacing:0.5px\">\n",
    "\n",
    "<p width = 20%, style=\"padding: 10px;\n",
    "              color:white;\">\n",
    "Distributions: Part I\n",
    "              \n",
    "</p>\n",
    "</div>\n",
    "\n",
    "Data Science Cohort Live NYC Feb 2022\n",
    "<p>Phase 2: Topic 12</p>\n",
    "<br>\n",
    "<br>\n",
    "\n",
    "<div align = \"right\">\n",
    "<img src=\"Images/flatiron-school-logo.png\" align = \"right\" width=\"200\"/>\n",
    "</div>\n",
    "    \n",
    "    "
   ]
  },
  {
   "cell_type": "markdown",
   "metadata": {
    "cell_style": "center",
    "hidden": true,
    "slideshow": {
     "slide_type": "subslide"
    }
   },
   "source": [
    "#### Probability distribution\n",
    "\n",
    "Representation of the expected frequencies of potential outcomes of experiment.\n",
    "\n",
    "How do we build expected frequencies?"
   ]
  },
  {
   "cell_type": "markdown",
   "metadata": {
    "cell_style": "split",
    "slideshow": {
     "slide_type": "fragment"
    }
   },
   "source": [
    "Have a large $N$ collection of all examples following distribution of interest:\n",
    "- known as a **population**"
   ]
  },
  {
   "cell_type": "markdown",
   "metadata": {
    "cell_style": "split",
    "slideshow": {
     "slide_type": "fragment"
    }
   },
   "source": [
    "**population**: the collection of all men in the world and their feet sizes."
   ]
  },
  {
   "cell_type": "markdown",
   "metadata": {
    "slideshow": {
     "slide_type": "slide"
    }
   },
   "source": [
    "**Another example of a population:** age bin distribution of all students that have ever attended Flatiron"
   ]
  },
  {
   "cell_type": "markdown",
   "metadata": {
    "cell_style": "split",
    "slideshow": {
     "slide_type": "subslide"
    }
   },
   "source": [
    "**The bins**\n",
    "\n",
    "- Age < 25.\n",
    "- 25 <= Age < 30.\n",
    "- 30 <= Age < 35.\n",
    "- 35 <= Age < 40.\n",
    "- Age >= 40"
   ]
  },
  {
   "cell_type": "markdown",
   "metadata": {
    "cell_style": "split"
   },
   "source": [
    "If we had access to every example in this population:\n",
    "\n",
    "- just get relative frequencies across bins\n",
    "- these are the **expected frequencies** or **probablity** given population level data."
   ]
  },
  {
   "cell_type": "markdown",
   "metadata": {
    "slideshow": {
     "slide_type": "slide"
    }
   },
   "source": [
    "#### Building probability distribution:"
   ]
  },
  {
   "cell_type": "markdown",
   "metadata": {
    "cell_style": "split",
    "slideshow": {
     "slide_type": "fragment"
    }
   },
   "source": [
    "- Get ages of all students at Flatiron (population)\n",
    "- Bin accordingly to build probability distribution."
   ]
  },
  {
   "cell_type": "markdown",
   "metadata": {
    "cell_style": "split",
    "slideshow": {
     "slide_type": "fragment"
    }
   },
   "source": [
    "\n",
    "- $15\\%$ are under the age of $25$\n",
    "- $30\\%$ are between $25$ & $30$\n",
    "- $25\\%$ are between $30$ & $35$\n",
    "- $20\\%$ are between $35$ & $40$\n",
    "- $10\\%$ are over the age of $40$\n",
    "\n",
    "**Built probability distribution from population percentages**"
   ]
  },
  {
   "cell_type": "markdown",
   "metadata": {
    "cell_style": "split",
    "slideshow": {
     "slide_type": "slide"
    }
   },
   "source": [
    "#### Sample from population\n",
    "\n",
    "<center><img src=\"Images/population_sample.png\" width=\"500\"/></center>\n",
    "\n",
    "    "
   ]
  },
  {
   "cell_type": "markdown",
   "metadata": {
    "cell_style": "split",
    "slideshow": {
     "slide_type": "fragment"
    }
   },
   "source": [
    "Once probability from population known:\n",
    "- Can estimate expected frequency of extracting a particular sample."
   ]
  },
  {
   "cell_type": "markdown",
   "metadata": {
    "cell_style": "split",
    "slideshow": {
     "slide_type": "subslide"
    }
   },
   "source": [
    "\n",
    "**Population**: whole group we're interested in. Population being the whole set of possible outcomes.\n",
    "\n",
    "**Sample**: random subset picked over the population. \n",
    "\n",
    "**Probabilities**: extracted from population"
   ]
  },
  {
   "cell_type": "markdown",
   "metadata": {
    "cell_style": "center",
    "slideshow": {
     "slide_type": "subslide"
    }
   },
   "source": [
    "#### Sampling\n",
    "\n",
    "- Picking a person randomly: \n",
    "\n",
    "What is the probability that the person is older than 40?"
   ]
  },
  {
   "cell_type": "markdown",
   "metadata": {
    "cell_style": "split",
    "slideshow": {
     "slide_type": "fragment"
    }
   },
   "source": [
    "\n",
    "- $15\\%$ are under the age of $25$\n",
    "- $30\\%$ are between $25$ & $30$\n",
    "- $25\\%$ are between $30$ & $35$\n",
    "- $20\\%$ are between $35$ & $40$\n",
    "- $10\\%$ are over the age of $40$\n",
    "\n",
    "**Built probability distribution from population percentages**"
   ]
  },
  {
   "cell_type": "markdown",
   "metadata": {
    "cell_style": "split",
    "slideshow": {
     "slide_type": "fragment"
    }
   },
   "source": [
    "$$ P = 0.1 $$"
   ]
  },
  {
   "cell_type": "markdown",
   "metadata": {
    "slideshow": {
     "slide_type": "subslide"
    }
   },
   "source": [
    "#### Sampling\n",
    "\n",
    "- Picking three people randomly: \n",
    "\n",
    "What is the probability that two are older than 40 and one is under the age of 25?"
   ]
  },
  {
   "cell_type": "code",
   "execution_count": 1,
   "metadata": {
    "slideshow": {
     "slide_type": "fragment"
    }
   },
   "outputs": [
    {
     "data": {
      "text/plain": [
       "0.0045000000000000005"
      ]
     },
     "execution_count": 1,
     "metadata": {},
     "output_type": "execute_result"
    }
   ],
   "source": [
    "from math import factorial\n",
    "\n",
    "combination_prefactor = factorial(3)/(factorial(2)*factorial(1))\n",
    "combination_prefactor*(.15)*(0.1)**2"
   ]
  },
  {
   "cell_type": "markdown",
   "metadata": {
    "slideshow": {
     "slide_type": "slide"
    }
   },
   "source": [
    "For discrete sample spaces:\n",
    "- probability distributions / tabulations have a fancy shmancy name."
   ]
  },
  {
   "cell_type": "markdown",
   "metadata": {
    "slideshow": {
     "slide_type": "subslide"
    }
   },
   "source": [
    "#### Probability Mass Function (PMF)\n",
    "\n",
    "Probability distribution over finite outcomes. Nothing fancy."
   ]
  },
  {
   "cell_type": "code",
   "execution_count": 2,
   "metadata": {
    "slideshow": {
     "slide_type": "fragment"
    }
   },
   "outputs": [
    {
     "data": {
      "text/html": [
       "<div>\n",
       "<style scoped>\n",
       "    .dataframe tbody tr th:only-of-type {\n",
       "        vertical-align: middle;\n",
       "    }\n",
       "\n",
       "    .dataframe tbody tr th {\n",
       "        vertical-align: top;\n",
       "    }\n",
       "\n",
       "    .dataframe thead th {\n",
       "        text-align: right;\n",
       "    }\n",
       "</style>\n",
       "<table border=\"1\" class=\"dataframe\">\n",
       "  <thead>\n",
       "    <tr style=\"text-align: right;\">\n",
       "      <th></th>\n",
       "      <th>Age Range</th>\n",
       "      <th>PMF</th>\n",
       "    </tr>\n",
       "  </thead>\n",
       "  <tbody>\n",
       "    <tr>\n",
       "      <th>0</th>\n",
       "      <td>&lt;25</td>\n",
       "      <td>0.15</td>\n",
       "    </tr>\n",
       "    <tr>\n",
       "      <th>1</th>\n",
       "      <td>25-30</td>\n",
       "      <td>0.30</td>\n",
       "    </tr>\n",
       "    <tr>\n",
       "      <th>2</th>\n",
       "      <td>30-35</td>\n",
       "      <td>0.20</td>\n",
       "    </tr>\n",
       "    <tr>\n",
       "      <th>3</th>\n",
       "      <td>35-40</td>\n",
       "      <td>0.25</td>\n",
       "    </tr>\n",
       "    <tr>\n",
       "      <th>4</th>\n",
       "      <td>&gt;40</td>\n",
       "      <td>0.10</td>\n",
       "    </tr>\n",
       "  </tbody>\n",
       "</table>\n",
       "</div>"
      ],
      "text/plain": [
       "  Age Range   PMF\n",
       "0       <25  0.15\n",
       "1     25-30  0.30\n",
       "2     30-35  0.20\n",
       "3     35-40  0.25\n",
       "4       >40  0.10"
      ]
     },
     "execution_count": 2,
     "metadata": {},
     "output_type": "execute_result"
    }
   ],
   "source": [
    "import pandas as pd\n",
    "import numpy as np\n",
    "outcome_df = pd.DataFrame([('<25', 0.15),('25-30', 0.3,),('30-35', 0.2,),('35-40', .25,),('>40', .1,)], columns=['Age Range', 'PMF'])\n",
    "outcome_df"
   ]
  },
  {
   "cell_type": "markdown",
   "metadata": {
    "cell_style": "center",
    "slideshow": {
     "slide_type": "subslide"
    }
   },
   "source": [
    "#### Plot PMF"
   ]
  },
  {
   "cell_type": "markdown",
   "metadata": {
    "slideshow": {
     "slide_type": "fragment"
    }
   },
   "source": [
    "Are often displayed visually by a specialized plot: *the stem plot*"
   ]
  },
  {
   "cell_type": "code",
   "execution_count": 3,
   "metadata": {
    "cell_style": "center",
    "scrolled": true,
    "slideshow": {
     "slide_type": "subslide"
    }
   },
   "outputs": [
    {
     "data": {
      "image/png": "[encoded data removed]",
      "text/plain": [
       "<Figure size 432x288 with 1 Axes>"
      ]
     },
     "metadata": {
      "needs_background": "light"
     },
     "output_type": "display_data"
    }
   ],
   "source": [
    "import matplotlib.pyplot as plt\n",
    "from matplotlib.pyplot import stem\n",
    "\n",
    "\n",
    "plt.stem(outcome_df['Age Range'], outcome_df['PMF'], linefmt='b-', markerfmt='bo', basefmt='r-')\n",
    "plt.xlabel('Age groups')\n",
    "plt.ylabel('Probability')\n",
    "plt.title('Probability Mass Function (PMF)')\n",
    "plt.show()"
   ]
  },
  {
   "cell_type": "markdown",
   "metadata": {
    "hidden": true,
    "slideshow": {
     "slide_type": "slide"
    }
   },
   "source": [
    "Actual uses of using population data to build probability distributions:\n",
    "\n",
    "- **Galaxy distribution in our universe:** \n",
    "    - sampling: our galactic local group\n",
    "- **All ad click data on Facebook:**\n",
    "    - sampling: specific user likehood to click on given add given their preferences"
   ]
  },
  {
   "cell_type": "markdown",
   "metadata": {
    "slideshow": {
     "slide_type": "slide"
    }
   },
   "source": [
    "#### Mathematical models of distribution"
   ]
  },
  {
   "cell_type": "markdown",
   "metadata": {
    "cell_style": "center",
    "slideshow": {
     "slide_type": "fragment"
    }
   },
   "source": [
    "- In many cases: know what a population distribution _should_ be.\n",
    "- Can model uncertainty: mathematically define a model governing statistics or population level data.\n",
    "\n",
    "**Often referred to as generative modeling**"
   ]
  },
  {
   "cell_type": "markdown",
   "metadata": {
    "heading_collapsed": true,
    "hidden": true,
    "slideshow": {
     "slide_type": "slide"
    }
   },
   "source": [
    "#### Common types of distributions: Discrete "
   ]
  },
  {
   "cell_type": "markdown",
   "metadata": {
    "cell_style": "split",
    "slideshow": {
     "slide_type": "fragment"
    }
   },
   "source": [
    "Mathematical distribution of random variables $X$:\n",
    "- governed by specific functional form\n",
    "- parameters of distribution $\\theta$"
   ]
  },
  {
   "cell_type": "markdown",
   "metadata": {
    "cell_style": "split",
    "slideshow": {
     "slide_type": "fragment"
    }
   },
   "source": [
    "Probability has some specific functional form depending on $X$ and $\\theta$.\n",
    "\n",
    "$$ P(X|\\theta) $$\n",
    "\n",
    "*Note*: This is a probability of the random variable $X$ conditioned on $\\theta$.\n",
    "\n",
    "The parameters $\\theta$ are not random variables."
   ]
  },
  {
   "cell_type": "markdown",
   "metadata": {
    "slideshow": {
     "slide_type": "slide"
    }
   },
   "source": [
    "### Examples: some important distributions"
   ]
  },
  {
   "cell_type": "markdown",
   "metadata": {
    "slideshow": {
     "slide_type": "subslide"
    }
   },
   "source": [
    "- **Bernoulli Distribution**\n",
    "    - Represents the probability of success for a certain experiment (binary outcome).\n",
    "    - Did someone click on an ad banner or not?"
   ]
  },
  {
   "cell_type": "markdown",
   "metadata": {
    "cell_style": "split",
    "slideshow": {
     "slide_type": "slide"
    }
   },
   "source": [
    "$$ B(X| p) = p^X(1-p)^{1-X} $$\n",
    "\n",
    "Random variable $X$:\n",
    "- Yes: X = 1 <br>\n",
    "- No: X = 0 <br>\n",
    "\n",
    "$p$: probability of banner clicked. This is a parameter."
   ]
  },
  {
   "cell_type": "markdown",
   "metadata": {
    "cell_style": "split",
    "slideshow": {
     "slide_type": "fragment"
    }
   },
   "source": [
    "Probability of clicked:\n",
    "$$ B(X = 1| p) = p $$ <br>\n",
    "\n",
    "Probability of not clicked:\n",
    "$$ B(X = 0| p) = 1 - p $$"
   ]
  },
  {
   "cell_type": "markdown",
   "metadata": {
    "slideshow": {
     "slide_type": "slide"
    }
   },
   "source": [
    "Scipy stats can help us with sampling distribution/plotting PMF, etc\n",
    "\n",
    "Probability is 4% of ad being clicked."
   ]
  },
  {
   "cell_type": "code",
   "execution_count": 4,
   "metadata": {
    "cell_style": "center",
    "slideshow": {
     "slide_type": "fragment"
    }
   },
   "outputs": [
    {
     "data": {
      "text/plain": [
       "[(0, 0.96), (1, 0.04000000000000001)]"
      ]
     },
     "execution_count": 4,
     "metadata": {},
     "output_type": "execute_result"
    }
   ],
   "source": [
    "# import bernoulli\n",
    "from scipy.stats import bernoulli\n",
    "\n",
    "bernoulli_pmf = [(x, bernoulli.pmf(x, p = .04)) for x in [0,1]]\n",
    "bernoulli_pmf"
   ]
  },
  {
   "cell_type": "markdown",
   "metadata": {
    "slideshow": {
     "slide_type": "slide"
    }
   },
   "source": [
    "The pmf can be visualized with a stem plot:"
   ]
  },
  {
   "cell_type": "code",
   "execution_count": 5,
   "metadata": {
    "slideshow": {
     "slide_type": "fragment"
    }
   },
   "outputs": [
    {
     "data": {
      "image/png": "[encoded data removed]",
      "text/plain": [
       "<Figure size 432x288 with 1 Axes>"
      ]
     },
     "metadata": {
      "needs_background": "light"
     },
     "output_type": "display_data"
    }
   ],
   "source": [
    "# create list of x values and a list of y values for matplotlib\n",
    "unzipped_bernoulli = list(zip(*bernoulli_pmf))\n",
    "\n",
    "plt.stem(unzipped_bernoulli[0], unzipped_bernoulli[1], linefmt='b-', markerfmt='bo', basefmt='r-')\n",
    "plt.xlabel('X')\n",
    "plt.ylabel('Probability')\n",
    "plt.title('Bernoulli PMF')\n",
    "plt.show()"
   ]
  },
  {
   "cell_type": "markdown",
   "metadata": {
    "slideshow": {
     "slide_type": "slide"
    }
   },
   "source": [
    "#### Expectation values: mean and variance of a distribution"
   ]
  },
  {
   "cell_type": "markdown",
   "metadata": {
    "cell_style": "split",
    "slideshow": {
     "slide_type": "fragment"
    }
   },
   "source": [
    "The mean is the a sum of:\n",
    "- possible values of the random variable $X$\n",
    "- weighted by the probability distribution of $X$ at these values."
   ]
  },
  {
   "cell_type": "markdown",
   "metadata": {
    "cell_style": "split",
    "slideshow": {
     "slide_type": "-"
    }
   },
   "source": [
    "$$ E[X] = \\sum_i X_i P(X_i|\\theta) $$\n",
    "\n",
    "where $\\theta$ is possible parameters of the distribution."
   ]
  },
  {
   "cell_type": "markdown",
   "metadata": {
    "cell_style": "split",
    "slideshow": {
     "slide_type": "fragment"
    }
   },
   "source": [
    "First calculate for a uniform distribution:"
   ]
  },
  {
   "cell_type": "markdown",
   "metadata": {
    "slideshow": {
     "slide_type": "subslide"
    }
   },
   "source": [
    "If we have three possible values for a each equally likely:\n",
    "    \n",
    "$$E[X] = X_1\\cdot\\frac{1}{3} + X_2\\cdot\\frac{1}{3} + X_3\\cdot\\frac{1}{3} $$\n",
    "\n",
    "\n",
    "$$ E[X] = \\frac{X_1 + X_2 + X_3}{3} $$"
   ]
  },
  {
   "cell_type": "markdown",
   "metadata": {
    "cell_style": "center",
    "slideshow": {
     "slide_type": "slide"
    }
   },
   "source": [
    "Let' do this for the Bernoulli distribution:\n",
    "\n",
    "$$ E[X] = 1\\cdot B(X =1 | p) + 0 \\cdot B(X = 0 | p) = p $$\n",
    "\n",
    "as  $ B(X =1 | p) = p $"
   ]
  },
  {
   "cell_type": "markdown",
   "metadata": {
    "slideshow": {
     "slide_type": "fragment"
    }
   },
   "source": [
    "The variance on the other hand is:\n",
    "\n",
    "$$ E[(X - E[X])^2] =  \\sum_i (X_i - E[X])^2 P(X_i|\\theta)$$\n",
    "\n",
    "which for the Bernulli distribution is:\n",
    "\n",
    "$$  (1 - p)^2 B(X = 1| p) + (0 - p)^2 B(X = 0| p) $$"
   ]
  },
  {
   "cell_type": "markdown",
   "metadata": {
    "slideshow": {
     "slide_type": "subslide"
    }
   },
   "source": [
    "implies that:\n",
    "    \n",
    "$$ Var[X] = (1 - p)^2p + (0 - p)^2(1 - p) $$\n",
    "\n",
    "and fully simplified:\n",
    "$$ Var[X] = p(1 - p) $$"
   ]
  },
  {
   "cell_type": "markdown",
   "metadata": {
    "slideshow": {
     "slide_type": "slide"
    }
   },
   "source": [
    "Mean and variance of $X$  for our ad clicking example?"
   ]
  },
  {
   "cell_type": "code",
   "execution_count": 6,
   "metadata": {
    "slideshow": {
     "slide_type": "fragment"
    }
   },
   "outputs": [
    {
     "name": "stdout",
     "output_type": "stream",
     "text": [
      "0.04 0.0384\n"
     ]
    }
   ],
   "source": [
    "# calculate it for me \n",
    "\n",
    "p = 0.04\n",
    "\n",
    "mean = p\n",
    "var = p*(1-p)\n",
    "print(mean, var)"
   ]
  },
  {
   "cell_type": "markdown",
   "metadata": {
    "slideshow": {
     "slide_type": "slide"
    }
   },
   "source": [
    "Scipy also has a useful method for getting mean, variance of the distribution:\n",
    "- .stats(parameters, ...)"
   ]
  },
  {
   "cell_type": "code",
   "execution_count": 7,
   "metadata": {
    "slideshow": {
     "slide_type": "-"
    }
   },
   "outputs": [
    {
     "data": {
      "text/plain": [
       "(array(0.04), array(0.0384))"
      ]
     },
     "execution_count": 7,
     "metadata": {},
     "output_type": "execute_result"
    }
   ],
   "source": [
    "# gives mean and variance in a tuple\n",
    "bernoulli.stats(p = 0.04)"
   ]
  },
  {
   "cell_type": "markdown",
   "metadata": {
    "slideshow": {
     "slide_type": "slide"
    }
   },
   "source": [
    "#### Sampling\n",
    "- More often than not we use the Bernoulli distribution in simulations:\n",
    "    - create a finite size sample modeled from distribution.\n",
    "    "
   ]
  },
  {
   "cell_type": "markdown",
   "metadata": {
    "slideshow": {
     "slide_type": "subslide"
    }
   },
   "source": [
    "Let's random sample this distribution 100 times."
   ]
  },
  {
   "cell_type": "code",
   "execution_count": 8,
   "metadata": {
    "slideshow": {
     "slide_type": "fragment"
    }
   },
   "outputs": [
    {
     "data": {
      "text/plain": [
       "array([0, 0, 0, 0, 0, 1, 0, 0, 0, 0, 0, 0, 0, 0, 0, 0, 0, 0, 0, 0, 0, 0,\n",
       "       0, 0, 0, 0, 0, 0, 1, 0, 0, 0, 0, 0, 0, 0, 0, 0, 0, 0, 0, 0, 0, 0,\n",
       "       0, 0, 0, 0, 0, 0, 0, 0, 0, 0, 0, 0, 0, 0, 0, 0, 0, 0, 0, 0, 0, 0,\n",
       "       0, 0, 0, 0, 0, 0, 0, 0, 0, 0, 0, 0, 0, 0, 0, 0, 0, 0, 0, 0, 0, 0,\n",
       "       1, 0, 0, 0, 0, 0, 0, 0, 0, 0, 0, 1])"
      ]
     },
     "execution_count": 8,
     "metadata": {},
     "output_type": "execute_result"
    }
   ],
   "source": [
    "bernoulli.rvs(p = 0.04, size = 100)"
   ]
  },
  {
   "cell_type": "markdown",
   "metadata": {
    "slideshow": {
     "slide_type": "subslide"
    }
   },
   "source": [
    "A very useful program:"
   ]
  },
  {
   "cell_type": "code",
   "execution_count": 9,
   "metadata": {
    "slideshow": {
     "slide_type": "fragment"
    }
   },
   "outputs": [
    {
     "name": "stdout",
     "output_type": "stream",
     "text": [
      "She loves me.\n",
      "She loves me.\n",
      "She loves me.\n",
      "She loves me.\n",
      "She loves me.\n",
      "She loves me.\n",
      "She loves me not.\n",
      "She loves me.\n",
      "She loves me not.\n",
      "She loves me not.\n"
     ]
    }
   ],
   "source": [
    "for x in bernoulli.rvs(p = 0.5, size = 10):\n",
    "    if x == 1:\n",
    "        print('She loves me.')\n",
    "    else:\n",
    "        print('She loves me not.')"
   ]
  },
  {
   "cell_type": "markdown",
   "metadata": {
    "hidden": true,
    "slideshow": {
     "slide_type": "slide"
    }
   },
   "source": [
    "- **Binomial Distribution**\n",
    "    - Generalizes Bernoulli to fixed number of trials.\n",
    "    - Probability of observing some number of successes $k$ for $N$ Bernoulli trials.\n",
    "    "
   ]
  },
  {
   "cell_type": "markdown",
   "metadata": {
    "slideshow": {
     "slide_type": "fragment"
    }
   },
   "source": [
    "- success probability of single Bernoulli trial: $p$\n",
    "- N trials\n",
    "- Probability of k sucesses?\n",
    "\n",
    "$$ Binomial(k | N, p) = \\frac{N!}{(N-k)!k!}p^k(1-p)^{N-k} $$"
   ]
  },
  {
   "cell_type": "markdown",
   "metadata": {
    "slideshow": {
     "slide_type": "subslide"
    }
   },
   "source": [
    "Parsing\n",
    "\n",
    "$$ Binomial(k | N, p) = \\frac{N!}{(N-k)!k!}p^k(1-p)^{N-k} $$"
   ]
  },
  {
   "cell_type": "markdown",
   "metadata": {
    "cell_style": "split",
    "slideshow": {
     "slide_type": "fragment"
    }
   },
   "source": [
    "Since each trial is statistically independent:\n",
    "\n",
    "$$ p^k(1-p)^{N-k} $$\n",
    "\n",
    "Product of individual Bernoulli failure/success probabilities."
   ]
  },
  {
   "cell_type": "markdown",
   "metadata": {
    "cell_style": "split",
    "slideshow": {
     "slide_type": "fragment"
    }
   },
   "source": [
    "Prefactor because need to count numbers of ways to get $k$ successful trials:\n",
    "\n",
    "$$ \\frac{N!}{(N-k)!k!} $$\n",
    "\n",
    "- Order within successful/unsuccessful trials does not matter.\n",
    "\n",
    "e.g. SFFSF is same as SFFSF\n",
    "\n"
   ]
  },
  {
   "cell_type": "markdown",
   "metadata": {
    "slideshow": {
     "slide_type": "slide"
    }
   },
   "source": [
    "#### Example\n",
    "\n",
    "-  Estimate number of successful free throw shots in 8 tries.\n",
    "- For Shaquille O'Neale: Career free throw pct = 52.7%"
   ]
  },
  {
   "cell_type": "markdown",
   "metadata": {
    "slideshow": {
     "slide_type": "fragment"
    }
   },
   "source": [
    "<img src = \"images/shaw.webp\" >\n",
    "<center> Shaq throwin free throw bricks. </center>"
   ]
  },
  {
   "cell_type": "markdown",
   "metadata": {
    "cell_style": "split",
    "slideshow": {
     "slide_type": "subslide"
    }
   },
   "source": [
    "scipy has functionality for binomial:\n",
    "- .binom class"
   ]
  },
  {
   "cell_type": "markdown",
   "metadata": {
    "cell_style": "split",
    "slideshow": {
     "slide_type": "fragment"
    }
   },
   "source": [
    "Define binomial:\n",
    "- distribution parameters:\n",
    "    - N = 8 trials\n",
    "    - Bernoulli success/failure p = .527"
   ]
  },
  {
   "cell_type": "code",
   "execution_count": 10,
   "metadata": {
    "cell_style": "split",
    "slideshow": {
     "slide_type": "fragment"
    }
   },
   "outputs": [],
   "source": [
    "from scipy.stats import binom\n",
    "N = 8\n",
    "p = 0.527\n",
    "\n",
    "pmf_binomial = [(x, binom.pmf(x, n = N, p = p)) \n",
    "                for x in range(9)]"
   ]
  },
  {
   "cell_type": "markdown",
   "metadata": {
    "slideshow": {
     "slide_type": "fragment"
    }
   },
   "source": [
    "Generates probability of $k$ sucesses in 8 trials:  $k$ ranging from 0 to 8."
   ]
  },
  {
   "cell_type": "code",
   "execution_count": 11,
   "metadata": {
    "slideshow": {
     "slide_type": "subslide"
    }
   },
   "outputs": [
    {
     "name": "stdout",
     "output_type": "stream",
     "text": [
      "[(0, 0.0025054695324104397), (1, 0.02233204978571335), (2, 0.08708555143709996), (3, 0.1940553302636435), (4, 0.27026204822658595), (5, 0.24089319140027196), (6, 0.13419736983926356), (7, 0.04271942851422039), (8, 0.005949561000791266)]\n"
     ]
    }
   ],
   "source": [
    "print(pmf_binomial)"
   ]
  },
  {
   "cell_type": "markdown",
   "metadata": {
    "slideshow": {
     "slide_type": "slide"
    }
   },
   "source": [
    "Plot the pmf:"
   ]
  },
  {
   "cell_type": "code",
   "execution_count": 12,
   "metadata": {
    "cell_style": "center",
    "slideshow": {
     "slide_type": "fragment"
    }
   },
   "outputs": [],
   "source": [
    "%%capture binom_plot\n",
    "x,y = list(zip(*pmf_binomial))\n",
    "plt.stem(x, y, linefmt='b-', markerfmt='bo', basefmt='r-')\n",
    "plt.title('Binomial PMF: Shaq FTs made out of 8 shots')\n",
    "plt.ylabel('Probability')\n",
    "plt.xlabel('Number of shots made')\n",
    "plt.title\n",
    "plt.show()"
   ]
  },
  {
   "cell_type": "code",
   "execution_count": 13,
   "metadata": {
    "slideshow": {
     "slide_type": "subslide"
    }
   },
   "outputs": [
    {
     "data": {
      "image/png": "[encoded data removed]",
      "text/plain": [
       "<Figure size 432x288 with 1 Axes>"
      ]
     },
     "metadata": {
      "needs_background": "light"
     },
     "output_type": "display_data"
    }
   ],
   "source": [
    "binom_plot()"
   ]
  },
  {
   "cell_type": "markdown",
   "metadata": {
    "slideshow": {
     "slide_type": "slide"
    }
   },
   "source": [
    "#### Let's compute Shaq free throw distribution statistics on 8 shots\n",
    "- based off of knowledge it must follow binomial\n",
    "- career percentage of 52.7%"
   ]
  },
  {
   "cell_type": "code",
   "execution_count": 14,
   "metadata": {
    "cell_style": "center",
    "slideshow": {
     "slide_type": "fragment"
    }
   },
   "outputs": [
    {
     "name": "stdout",
     "output_type": "stream",
     "text": [
      "Average shots made in 8 tries = 4.216\n",
      "Spread on shots made  in 8 tries= 1.994168\n"
     ]
    }
   ],
   "source": [
    "avg_shots_made, shots_made_std = binom.stats(n = 8, p =.527)\n",
    "print('Average shots made in 8 tries = ' + str(avg_shots_made))\n",
    "print('Spread on shots made  in 8 tries= ' + str(shots_made_std))"
   ]
  },
  {
   "cell_type": "markdown",
   "metadata": {
    "cell_style": "split",
    "slideshow": {
     "slide_type": "slide"
    }
   },
   "source": [
    "Note there is a small skew in this distribution:\n",
    "- other statistics: skew and kurtosis\n",
    "- expectation value of third and fourth moments"
   ]
  },
  {
   "cell_type": "code",
   "execution_count": 15,
   "metadata": {
    "cell_style": "split",
    "slideshow": {
     "slide_type": "fragment"
    }
   },
   "outputs": [
    {
     "data": {
      "image/png": "[encoded data removed]",
      "text/plain": [
       "<Figure size 432x288 with 1 Axes>"
      ]
     },
     "metadata": {
      "needs_background": "light"
     },
     "output_type": "display_data"
    }
   ],
   "source": [
    "binom_plot()"
   ]
  },
  {
   "cell_type": "markdown",
   "metadata": {
    "slideshow": {
     "slide_type": "slide"
    }
   },
   "source": [
    "Can access these additional statistics:\n",
    "- 's' stands for skew, 'k' for kurtosis"
   ]
  },
  {
   "cell_type": "code",
   "execution_count": 16,
   "metadata": {
    "slideshow": {
     "slide_type": "fragment"
    }
   },
   "outputs": [
    {
     "data": {
      "text/plain": [
       "(array(4.216), array(1.994168), array(-0.03823956), array(-0.24853774))"
      ]
     },
     "execution_count": 16,
     "metadata": {},
     "output_type": "execute_result"
    }
   ],
   "source": [
    " binom.stats(n = 8, p =.527, moments = 'mvsk' )"
   ]
  },
  {
   "cell_type": "markdown",
   "metadata": {
    "slideshow": {
     "slide_type": "slide"
    }
   },
   "source": [
    "Can sample this binomial distribution:\n",
    "- Get a list of number of successes for each trial (number of shots Shaq made)\n",
    "- 200 trials (e.g. maybe number of games where Shaq shot only 8 free throws)"
   ]
  },
  {
   "cell_type": "markdown",
   "metadata": {
    "slideshow": {
     "slide_type": "slide"
    }
   },
   "source": [
    "Can sample this binomial distribution:"
   ]
  },
  {
   "cell_type": "code",
   "execution_count": 17,
   "metadata": {
    "ExecuteTime": {
     "end_time": "2021-10-08T21:00:02.025541Z",
     "start_time": "2021-10-08T21:00:02.022231Z"
    },
    "slideshow": {
     "slide_type": "fragment"
    }
   },
   "outputs": [
    {
     "name": "stdout",
     "output_type": "stream",
     "text": [
      "Number of shots Shaq made in games where he took 8 free throws: \n",
      " [3 5 5 6 5 5 3 5 5 5 6 4 6 5 6 5 5 1 5 4 4 5 6 4 4 5 5 6 1 3 4 1 4 5 5 3 2\n",
      " 4 7 4 5 4 2 5 2 3 6 4 4 2 8 4 4 5 6 2 6 7 4 6 4 5 2 4 4 4 4 5 5 3 2 4 3 5\n",
      " 4 7 5 3 5 3 6 4 4 6 6 3 5 4 4 2 6 3 6 3 6 4 4 2 4 4 4 5 3 4 5 3 1 3 3 7 5\n",
      " 3 7 5 7 4 5 4 3 5 7 5 4 4 3 5 6 5 5 4 5 5 4 5 6 7 3 5 5 6 4 8 4 4 7 4 4 4\n",
      " 4 2 6 4 6 6 5 2 3 4 7 3 5 6 4 4 6 4 5 3 6 4 6 6 4 3 7 6 3 3 4 5 4 5 5 3 4\n",
      " 4 4 2 3 7 5 5 4 3 5 6 5 5 7 5] \n",
      "\n"
     ]
    }
   ],
   "source": [
    "\n",
    "N = 8  # number of samples for user-site interaction trial\n",
    "p = 0.527  # probability of success\n",
    "size = 200  # number of trials\n",
    "\n",
    "# Create a discrete distribution with the given parameter values\n",
    "binomial = binom.rvs(n = N, p=p, size=size)\n",
    "\n",
    "print(f'Number of shots Shaq made in games where he took 8 free throws: \\n {binomial} \\n')"
   ]
  },
  {
   "cell_type": "markdown",
   "metadata": {
    "slideshow": {
     "slide_type": "slide"
    }
   },
   "source": [
    "#### The Poisson Distribution"
   ]
  },
  {
   "cell_type": "markdown",
   "metadata": {
    "cell_style": "split",
    "slideshow": {
     "slide_type": "fragment"
    }
   },
   "source": [
    "A useful distribution when counting the number of counts in a fixed interval:\n",
    "- and we have knowledge of the mean counts"
   ]
  },
  {
   "cell_type": "markdown",
   "metadata": {
    "cell_style": "split",
    "slideshow": {
     "slide_type": "fragment"
    }
   },
   "source": [
    "Radioactive decay:\n",
    "- Tabulate mean counts / min on Geiger counter from Americum-241:\n",
    "    - $\\lambda$ (a parameter)\n",
    "- Now want distribution of counts per min $n$: \n",
    "    - a random variable"
   ]
  },
  {
   "cell_type": "markdown",
   "metadata": {
    "slideshow": {
     "slide_type": "slide"
    }
   },
   "source": [
    "#### Derivation: let's do it on the board\n",
    "\n",
    "A limiting case of the binomial distribution where $N \\rightarrow \\infty $"
   ]
  },
  {
   "cell_type": "markdown",
   "metadata": {
    "cell_style": "center",
    "slideshow": {
     "slide_type": "fragment"
    }
   },
   "source": [
    "PMF of Poisson counting process:\n",
    "$$ P(n|\\lambda) = \\frac {\\lambda ^{n}e^{-\\lambda }}{n!} $$\n",
    "\n",
    "- $\\lambda$ is observed average rate.\n",
    "- Parameter of distribution: observed from data."
   ]
  },
  {
   "cell_type": "markdown",
   "metadata": {
    "slideshow": {
     "slide_type": "subslide"
    }
   },
   "source": [
    "scipy.stats can really help us model/visualize this.\n",
    "- poisson.pmf(n, lambda)\n",
    "\n",
    "**Take lambda = 3 counts/min**"
   ]
  },
  {
   "cell_type": "code",
   "execution_count": 18,
   "metadata": {
    "cell_style": "split",
    "slideshow": {
     "slide_type": "subslide"
    }
   },
   "outputs": [],
   "source": [
    "from scipy.stats import poisson\n",
    "lambda_rate = 3\n",
    "call_pmf =[(x, poisson.pmf(x,  mu =lambda_rate)) \n",
    "           for x in range(10)]\n",
    "\n",
    "x_amer,y_amer = list(zip(*call_pmf))"
   ]
  },
  {
   "cell_type": "code",
   "execution_count": 19,
   "metadata": {
    "cell_style": "split",
    "slideshow": {
     "slide_type": "fragment"
    }
   },
   "outputs": [
    {
     "data": {
      "image/png": "[encoded data removed]",
      "text/plain": [
       "<Figure size 432x288 with 1 Axes>"
      ]
     },
     "metadata": {
      "needs_background": "light"
     },
     "output_type": "display_data"
    }
   ],
   "source": [
    "plt.stem(x_amer, y_amer, linefmt='b-', markerfmt='bo', basefmt='r-')\n",
    "plt.xlabel('n')\n",
    "plt.ylabel('P(n)')\n",
    "plt.title('PMF (Poisson)')\n",
    "plt.show()"
   ]
  },
  {
   "cell_type": "markdown",
   "metadata": {
    "slideshow": {
     "slide_type": "fragment"
    }
   },
   "source": [
    "This distribution clearly has skew."
   ]
  },
  {
   "cell_type": "markdown",
   "metadata": {
    "slideshow": {
     "slide_type": "slide"
    }
   },
   "source": [
    "Calculate the distribution statistics:"
   ]
  },
  {
   "cell_type": "code",
   "execution_count": 20,
   "metadata": {
    "cell_style": "center",
    "slideshow": {
     "slide_type": "fragment"
    }
   },
   "outputs": [
    {
     "data": {
      "text/plain": [
       "(array(3.), array(3.), array(0.57735027), array(0.33333333))"
      ]
     },
     "execution_count": 20,
     "metadata": {},
     "output_type": "execute_result"
    }
   ],
   "source": [
    "poisson.stats(mu = lambda_rate, moments = 'mvsk')"
   ]
  },
  {
   "cell_type": "markdown",
   "metadata": {
    "slideshow": {
     "slide_type": "fragment"
    }
   },
   "source": [
    "See anything interesting?"
   ]
  },
  {
   "cell_type": "markdown",
   "metadata": {
    "slideshow": {
     "slide_type": "slide"
    }
   },
   "source": [
    "For Poisson:\n",
    "\n",
    "$$ E[n] = \\lambda $$\n",
    "$$ Var[n] = \\lambda $$"
   ]
  },
  {
   "cell_type": "markdown",
   "metadata": {
    "slideshow": {
     "slide_type": "slide"
    }
   },
   "source": [
    "Sometime parameter determined from laws of physics, domain knowledge, etc.:\n",
    "\n",
    "- Mean nuclear decay rate of Iodine-131 is 31.5 decay events/year. Quantum physics."
   ]
  },
  {
   "cell_type": "code",
   "execution_count": 21,
   "metadata": {
    "scrolled": true,
    "slideshow": {
     "slide_type": "subslide"
    }
   },
   "outputs": [
    {
     "data": {
      "image/png": "[encoded data removed]",
      "text/plain": [
       "<Figure size 432x288 with 1 Axes>"
      ]
     },
     "metadata": {
      "needs_background": "light"
     },
     "output_type": "display_data"
    }
   ],
   "source": [
    "nuclear_pmf =[(x, poisson.pmf(x, 31.5)) for x in range(70)]\n",
    "x,y = list(zip(*nuclear_pmf))\n",
    "plt.stem(x, y, linefmt='b-', markerfmt='bo', basefmt='r-')\n",
    "plt.xlabel('n')\n",
    "plt.ylabel('P(n)')\n",
    "plt.title('PMF (Poisson): Calls/min')\n",
    "plt.show()\n"
   ]
  },
  {
   "cell_type": "markdown",
   "metadata": {
    "slideshow": {
     "slide_type": "fragment"
    }
   },
   "source": [
    "Gets more symmetric and bell-shaped as $\\lambda$ gets larger."
   ]
  },
  {
   "cell_type": "markdown",
   "metadata": {
    "slideshow": {
     "slide_type": "slide"
    }
   },
   "source": [
    "Poisson distribution pops up pretty regularly in data science:\n",
    "- Natural language processing with bag-of-words document vectorization \n",
    "- Count distribution in political polling, etc."
   ]
  },
  {
   "cell_type": "markdown",
   "metadata": {
    "slideshow": {
     "slide_type": "slide"
    }
   },
   "source": [
    "#### Common types of distributions: Continuous "
   ]
  },
  {
   "cell_type": "markdown",
   "metadata": {
    "cell_style": "split",
    "slideshow": {
     "slide_type": "subslide"
    }
   },
   "source": [
    "So far dealt with distributions over discrete variables.\n",
    "\n",
    "What about when $X$ a random variable: continuous spectrum of values?"
   ]
  },
  {
   "cell_type": "markdown",
   "metadata": {
    "cell_style": "split",
    "slideshow": {
     "slide_type": "fragment"
    }
   },
   "source": [
    "Enumerating probability of a single value of $X$ is not the correct thing to do. "
   ]
  },
  {
   "cell_type": "markdown",
   "metadata": {
    "cell_style": "split",
    "slideshow": {
     "slide_type": "slide"
    }
   },
   "source": [
    "**Why?**\n",
    "- Let's imagine a continuous line [0,1]\n",
    "- Infinite number of points.\n",
    "- Probability of getting X = 0.5?\n"
   ]
  },
  {
   "cell_type": "markdown",
   "metadata": {
    "cell_style": "split",
    "slideshow": {
     "slide_type": "fragment"
    }
   },
   "source": [
    "$$ P(X = 0.5) = \\frac{1}{\\infty} = 0$$ \n",
    "\n",
    "Probability of getting exactly a point on this interval is 0."
   ]
  },
  {
   "cell_type": "markdown",
   "metadata": {
    "cell_style": "center",
    "slideshow": {
     "slide_type": "slide"
    }
   },
   "source": [
    "But we can define probability in an interval:\n",
    "- probability that $X$ lies in [0.1, 0.25]\n",
    "- given sample space is [0, 1]"
   ]
  },
  {
   "cell_type": "markdown",
   "metadata": {
    "slideshow": {
     "slide_type": "fragment"
    }
   },
   "source": [
    "$$ P(0.1 \\leq X \\leq 0.25) = 0.15$$"
   ]
  },
  {
   "cell_type": "markdown",
   "metadata": {
    "slideshow": {
     "slide_type": "slide"
    }
   },
   "source": [
    "Thus we can define probabilities per given interval:\n",
    "- Have already done this.\n",
    "- Histograms."
   ]
  },
  {
   "cell_type": "code",
   "execution_count": 22,
   "metadata": {
    "slideshow": {
     "slide_type": "fragment"
    }
   },
   "outputs": [
    {
     "ename": "ValueError",
     "evalue": "`stat` must be one of ['count', 'density', 'probability', 'frequency'], but proportion was passed.`",
     "output_type": "error",
     "traceback": [
      "\u001b[0;31m---------------------------------------------------------------------------\u001b[0m",
      "\u001b[0;31mValueError\u001b[0m                                Traceback (most recent call last)",
      "\u001b[0;32m<ipython-input-22-150ac92fc5f0>\u001b[0m in \u001b[0;36m<module>\u001b[0;34m\u001b[0m\n\u001b[1;32m      1\u001b[0m \u001b[0;32mimport\u001b[0m \u001b[0mseaborn\u001b[0m \u001b[0;32mas\u001b[0m \u001b[0msns\u001b[0m\u001b[0;34m\u001b[0m\u001b[0;34m\u001b[0m\u001b[0m\n\u001b[1;32m      2\u001b[0m \u001b[0mpenguins_df\u001b[0m \u001b[0;34m=\u001b[0m \u001b[0msns\u001b[0m\u001b[0;34m.\u001b[0m\u001b[0mload_dataset\u001b[0m\u001b[0;34m(\u001b[0m\u001b[0;34m'penguins'\u001b[0m\u001b[0;34m)\u001b[0m\u001b[0;34m\u001b[0m\u001b[0;34m\u001b[0m\u001b[0m\n\u001b[0;32m----> 3\u001b[0;31m \u001b[0msns\u001b[0m\u001b[0;34m.\u001b[0m\u001b[0mhistplot\u001b[0m\u001b[0;34m(\u001b[0m\u001b[0mx\u001b[0m \u001b[0;34m=\u001b[0m \u001b[0;34m'body_mass_g'\u001b[0m\u001b[0;34m,\u001b[0m \u001b[0mdata\u001b[0m \u001b[0;34m=\u001b[0m \u001b[0mpenguins_df\u001b[0m\u001b[0;34m,\u001b[0m \u001b[0mstat\u001b[0m \u001b[0;34m=\u001b[0m \u001b[0;34m'proportion'\u001b[0m\u001b[0;34m)\u001b[0m\u001b[0;34m\u001b[0m\u001b[0;34m\u001b[0m\u001b[0m\n\u001b[0m\u001b[1;32m      4\u001b[0m \u001b[0mplt\u001b[0m\u001b[0;34m.\u001b[0m\u001b[0mshow\u001b[0m\u001b[0;34m(\u001b[0m\u001b[0;34m)\u001b[0m\u001b[0;34m\u001b[0m\u001b[0;34m\u001b[0m\u001b[0m\n",
      "\u001b[0;32m~/opt/anaconda3/envs/learn-env/lib/python3.8/site-packages/seaborn/distributions.py\u001b[0m in \u001b[0;36mhistplot\u001b[0;34m(data, x, y, hue, weights, stat, bins, binwidth, binrange, discrete, cumulative, common_bins, common_norm, multiple, element, fill, shrink, kde, kde_kws, line_kws, thresh, pthresh, pmax, cbar, cbar_ax, cbar_kws, palette, hue_order, hue_norm, color, log_scale, legend, ax, **kwargs)\u001b[0m\n\u001b[1;32m   1420\u001b[0m     \u001b[0;32mif\u001b[0m \u001b[0mp\u001b[0m\u001b[0;34m.\u001b[0m\u001b[0munivariate\u001b[0m\u001b[0;34m:\u001b[0m\u001b[0;34m\u001b[0m\u001b[0;34m\u001b[0m\u001b[0m\n\u001b[1;32m   1421\u001b[0m \u001b[0;34m\u001b[0m\u001b[0m\n\u001b[0;32m-> 1422\u001b[0;31m         p.plot_univariate_histogram(\n\u001b[0m\u001b[1;32m   1423\u001b[0m             \u001b[0mmultiple\u001b[0m\u001b[0;34m=\u001b[0m\u001b[0mmultiple\u001b[0m\u001b[0;34m,\u001b[0m\u001b[0;34m\u001b[0m\u001b[0;34m\u001b[0m\u001b[0m\n\u001b[1;32m   1424\u001b[0m             \u001b[0melement\u001b[0m\u001b[0;34m=\u001b[0m\u001b[0melement\u001b[0m\u001b[0;34m,\u001b[0m\u001b[0;34m\u001b[0m\u001b[0;34m\u001b[0m\u001b[0m\n",
      "\u001b[0;32m~/opt/anaconda3/envs/learn-env/lib/python3.8/site-packages/seaborn/distributions.py\u001b[0m in \u001b[0;36mplot_univariate_histogram\u001b[0;34m(self, multiple, element, fill, common_norm, common_bins, shrink, kde, kde_kws, color, legend, line_kws, estimate_kws, **plot_kws)\u001b[0m\n\u001b[1;32m    380\u001b[0m \u001b[0;34m\u001b[0m\u001b[0m\n\u001b[1;32m    381\u001b[0m         \u001b[0;31m# Now initialize the Histogram estimator\u001b[0m\u001b[0;34m\u001b[0m\u001b[0;34m\u001b[0m\u001b[0;34m\u001b[0m\u001b[0m\n\u001b[0;32m--> 382\u001b[0;31m         \u001b[0mestimator\u001b[0m \u001b[0;34m=\u001b[0m \u001b[0mHistogram\u001b[0m\u001b[0;34m(\u001b[0m\u001b[0;34m**\u001b[0m\u001b[0mestimate_kws\u001b[0m\u001b[0;34m)\u001b[0m\u001b[0;34m\u001b[0m\u001b[0;34m\u001b[0m\u001b[0m\n\u001b[0m\u001b[1;32m    383\u001b[0m         \u001b[0mhistograms\u001b[0m \u001b[0;34m=\u001b[0m \u001b[0;34m{\u001b[0m\u001b[0;34m}\u001b[0m\u001b[0;34m\u001b[0m\u001b[0;34m\u001b[0m\u001b[0m\n\u001b[1;32m    384\u001b[0m \u001b[0;34m\u001b[0m\u001b[0m\n",
      "\u001b[0;32m~/opt/anaconda3/envs/learn-env/lib/python3.8/site-packages/seaborn/_statistics.py\u001b[0m in \u001b[0;36m__init__\u001b[0;34m(self, stat, bins, binwidth, binrange, discrete, cumulative)\u001b[0m\n\u001b[1;32m    230\u001b[0m \u001b[0;34m\u001b[0m\u001b[0m\n\u001b[1;32m    231\u001b[0m         \"\"\"\n\u001b[0;32m--> 232\u001b[0;31m         \u001b[0m_check_argument\u001b[0m\u001b[0;34m(\u001b[0m\u001b[0;34m\"stat\"\u001b[0m\u001b[0;34m,\u001b[0m \u001b[0;34m[\u001b[0m\u001b[0;34m\"count\"\u001b[0m\u001b[0;34m,\u001b[0m \u001b[0;34m\"density\"\u001b[0m\u001b[0;34m,\u001b[0m \u001b[0;34m\"probability\"\u001b[0m\u001b[0;34m,\u001b[0m \u001b[0;34m\"frequency\"\u001b[0m\u001b[0;34m]\u001b[0m\u001b[0;34m,\u001b[0m \u001b[0mstat\u001b[0m\u001b[0;34m)\u001b[0m\u001b[0;34m\u001b[0m\u001b[0;34m\u001b[0m\u001b[0m\n\u001b[0m\u001b[1;32m    233\u001b[0m \u001b[0;34m\u001b[0m\u001b[0m\n\u001b[1;32m    234\u001b[0m         \u001b[0mself\u001b[0m\u001b[0;34m.\u001b[0m\u001b[0mstat\u001b[0m \u001b[0;34m=\u001b[0m \u001b[0mstat\u001b[0m\u001b[0;34m\u001b[0m\u001b[0;34m\u001b[0m\u001b[0m\n",
      "\u001b[0;32m~/opt/anaconda3/envs/learn-env/lib/python3.8/site-packages/seaborn/utils.py\u001b[0m in \u001b[0;36m_check_argument\u001b[0;34m(param, options, value)\u001b[0m\n\u001b[1;32m    672\u001b[0m     \u001b[0;34m\"\"\"Raise if value for param is not in options.\"\"\"\u001b[0m\u001b[0;34m\u001b[0m\u001b[0;34m\u001b[0m\u001b[0m\n\u001b[1;32m    673\u001b[0m     \u001b[0;32mif\u001b[0m \u001b[0mvalue\u001b[0m \u001b[0;32mnot\u001b[0m \u001b[0;32min\u001b[0m \u001b[0moptions\u001b[0m\u001b[0;34m:\u001b[0m\u001b[0;34m\u001b[0m\u001b[0;34m\u001b[0m\u001b[0m\n\u001b[0;32m--> 674\u001b[0;31m         raise ValueError(\n\u001b[0m\u001b[1;32m    675\u001b[0m             \u001b[0;34mf\"`{param}` must be one of {options}, but {value} was passed.`\"\u001b[0m\u001b[0;34m\u001b[0m\u001b[0;34m\u001b[0m\u001b[0m\n\u001b[1;32m    676\u001b[0m         )\n",
      "\u001b[0;31mValueError\u001b[0m: `stat` must be one of ['count', 'density', 'probability', 'frequency'], but proportion was passed.`"
     ]
    },
    {
     "data": {
      "image/png": "[encoded data removed]",
      "text/plain": [
       "<Figure size 432x288 with 1 Axes>"
      ]
     },
     "metadata": {
      "needs_background": "light"
     },
     "output_type": "display_data"
    }
   ],
   "source": [
    "import seaborn as sns\n",
    "penguins_df = sns.load_dataset('penguins')\n",
    "sns.histplot(x = 'body_mass_g', data = penguins_df, stat = 'proportion')\n",
    "plt.show()"
   ]
  },
  {
   "cell_type": "markdown",
   "metadata": {
    "heading_collapsed": true,
    "slideshow": {
     "slide_type": "slide"
    }
   },
   "source": [
    "#### PDF: Probability Density Function\n",
    "- As we make bins thinner and thinner."
   ]
  },
  {
   "cell_type": "markdown",
   "metadata": {
    "cell_style": "split",
    "hidden": true,
    "slideshow": {
     "slide_type": "fragment"
    }
   },
   "source": [
    "**Probability density functions (PDF)** similar to PMFs but:\n",
    "\n",
    "- continuous variable\n",
    "- probability of **exactly** having a given value of continuous not defined. \n",
    "- probability of a result within a range of values. \n",
    "\n",
    "![](images/pdf_temp.png)"
   ]
  },
  {
   "cell_type": "markdown",
   "metadata": {
    "cell_style": "split",
    "slideshow": {
     "slide_type": "fragment"
    }
   },
   "source": [
    "- PDFs give us probability density.\n",
    "- Area under PDF in given range yields probability.  \n",
    "\n",
    "<center><img src=\"Images/pdf_proba.gif\" width=\"450\"/></center>"
   ]
  },
  {
   "cell_type": "markdown",
   "metadata": {
    "cell_style": "split",
    "slideshow": {
     "slide_type": "slide"
    }
   },
   "source": [
    "Area under entire curve:\n",
    "\n",
    "- Probability of entire interval of possible values\n",
    "\n",
    "**Must equal 1**"
   ]
  },
  {
   "cell_type": "markdown",
   "metadata": {
    "cell_style": "split",
    "slideshow": {
     "slide_type": "fragment"
    }
   },
   "source": [
    "<center><img src = \"Images/total_area_probunity.png\"></center>"
   ]
  },
  {
   "cell_type": "markdown",
   "metadata": {
    "cell_style": "split",
    "slideshow": {
     "slide_type": "slide"
    }
   },
   "source": [
    "Probability in an interval:"
   ]
  },
  {
   "cell_type": "markdown",
   "metadata": {
    "cell_style": "split",
    "slideshow": {
     "slide_type": "fragment"
    }
   },
   "source": [
    "<center><img src = \"Images/pdf_interval.png\"></center>"
   ]
  },
  {
   "cell_type": "markdown",
   "metadata": {
    "cell_style": "split",
    "hidden": true,
    "slideshow": {
     "slide_type": "slide"
    }
   },
   "source": [
    "- **Continuous Uniform**\n",
    "    - A continuous distribution that takes values within a specified range *a* to *b*, when each value within the range is equally likely.\n"
   ]
  },
  {
   "cell_type": "markdown",
   "metadata": {
    "cell_style": "split",
    "slideshow": {
     "slide_type": "fragment"
    }
   },
   "source": [
    "e.g. position of ball bouncing elastically between two walls"
   ]
  },
  {
   "cell_type": "markdown",
   "metadata": {
    "cell_style": "split",
    "slideshow": {
     "slide_type": "fragment"
    }
   },
   "source": [
    "<img src = \"Images/wallbounce.jpg\" >"
   ]
  },
  {
   "cell_type": "markdown",
   "metadata": {
    "slideshow": {
     "slide_type": "slide"
    }
   },
   "source": [
    "**Spicy stats time!**\n",
    "- uniform defaults to interval [0,1] as sample space"
   ]
  },
  {
   "cell_type": "code",
   "execution_count": 25,
   "metadata": {
    "slideshow": {
     "slide_type": "fragment"
    }
   },
   "outputs": [],
   "source": [
    "from scipy.stats import uniform"
   ]
  },
  {
   "cell_type": "markdown",
   "metadata": {
    "slideshow": {
     "slide_type": "slide"
    }
   },
   "source": [
    "#### PDF: Probability Density Function\n",
    "Instead of PMF:\n",
    "- has .pdf() function to get probability density function"
   ]
  },
  {
   "cell_type": "code",
   "execution_count": 23,
   "metadata": {
    "cell_style": "split",
    "slideshow": {
     "slide_type": "subslide"
    }
   },
   "outputs": [
    {
     "name": "stdout",
     "output_type": "stream",
     "text": [
      "[-1.         -0.93877551 -0.87755102 -0.81632653 -0.75510204 -0.69387755\n",
      " -0.63265306 -0.57142857 -0.51020408 -0.44897959 -0.3877551  -0.32653061\n",
      " -0.26530612 -0.20408163 -0.14285714 -0.08163265 -0.02040816  0.04081633\n",
      "  0.10204082  0.16326531  0.2244898   0.28571429  0.34693878  0.40816327\n",
      "  0.46938776  0.53061224  0.59183673  0.65306122  0.71428571  0.7755102\n",
      "  0.83673469  0.89795918  0.95918367  1.02040816  1.08163265  1.14285714\n",
      "  1.20408163  1.26530612  1.32653061  1.3877551   1.44897959  1.51020408\n",
      "  1.57142857  1.63265306  1.69387755  1.75510204  1.81632653  1.87755102\n",
      "  1.93877551  2.        ]\n"
     ]
    }
   ],
   "source": [
    "# list of X values on interval\n",
    "X = np.linspace(-1,2, 50)\n",
    "print(X)"
   ]
  },
  {
   "cell_type": "markdown",
   "metadata": {
    "cell_style": "split",
    "slideshow": {
     "slide_type": "fragment"
    }
   },
   "source": [
    ".pdf() can take in a numpy array for $X$ and return the pdf evaluated on array:"
   ]
  },
  {
   "cell_type": "code",
   "execution_count": 26,
   "metadata": {
    "cell_style": "split",
    "slideshow": {
     "slide_type": "-"
    }
   },
   "outputs": [
    {
     "data": {
      "text/plain": [
       "array([0., 0., 0., 0., 0., 0., 0., 0., 0., 0., 0., 0., 0., 0., 0., 0., 0.,\n",
       "       1., 1., 1., 1., 1., 1., 1., 1., 1., 1., 1., 1., 1., 1., 1., 1., 0.,\n",
       "       0., 0., 0., 0., 0., 0., 0., 0., 0., 0., 0., 0., 0., 0., 0., 0.])"
      ]
     },
     "execution_count": 26,
     "metadata": {},
     "output_type": "execute_result"
    }
   ],
   "source": [
    "# remember uniform distribution over [0,1]\n",
    "unif_pdf = uniform.pdf(X)\n",
    "unif_pdf"
   ]
  },
  {
   "cell_type": "markdown",
   "metadata": {
    "slideshow": {
     "slide_type": "slide"
    }
   },
   "source": [
    "#### Visualization of uniform distribution"
   ]
  },
  {
   "cell_type": "code",
   "execution_count": 27,
   "metadata": {
    "cell_style": "split",
    "slideshow": {
     "slide_type": "fragment"
    }
   },
   "outputs": [
    {
     "data": {
      "image/png": "[encoded data removed]",
      "text/plain": [
       "<Figure size 432x288 with 1 Axes>"
      ]
     },
     "metadata": {
      "needs_background": "light"
     },
     "output_type": "display_data"
    }
   ],
   "source": [
    "fig,ax = plt.subplots()\n",
    "ax.plot(X, unif_pdf)\n",
    "ax.set_title('PDF of uniform distribution')\n",
    "ax.set_xlabel('X')\n",
    "ax.set_ylabel('pdf')\n",
    "plt.show()"
   ]
  },
  {
   "cell_type": "markdown",
   "metadata": {
    "cell_style": "split",
    "slideshow": {
     "slide_type": "fragment"
    }
   },
   "source": [
    "What is area under this curve?"
   ]
  },
  {
   "cell_type": "markdown",
   "metadata": {
    "cell_style": "center",
    "slideshow": {
     "slide_type": "slide"
    }
   },
   "source": [
    "Uniform .pdf() has location and scale argument:\n",
    "- loc = ___ is start of interval\n",
    "- scale = ___ is range of sample space\n",
    "- uniform probability density over [loc, loc + scale]"
   ]
  },
  {
   "cell_type": "markdown",
   "metadata": {
    "slideshow": {
     "slide_type": "slide"
    }
   },
   "source": [
    "Bouncing ball:\n",
    "$ X = \\pm 5$\n",
    "\n",
    "Get pdf"
   ]
  },
  {
   "cell_type": "code",
   "execution_count": 28,
   "metadata": {
    "cell_style": "split",
    "slideshow": {
     "slide_type": "fragment"
    }
   },
   "outputs": [],
   "source": [
    "X_b = np.linspace(-6,6, 1000)\n",
    "\n",
    "# sample space is [-5,5]\n",
    "bouncing_pdf = uniform.pdf(X_b, loc = -5,\n",
    "                         scale = 10)"
   ]
  },
  {
   "cell_type": "code",
   "execution_count": 29,
   "metadata": {
    "cell_style": "split",
    "slideshow": {
     "slide_type": "fragment"
    }
   },
   "outputs": [
    {
     "data": {
      "image/png": "[encoded data removed]",
      "text/plain": [
       "<Figure size 432x288 with 1 Axes>"
      ]
     },
     "metadata": {
      "needs_background": "light"
     },
     "output_type": "display_data"
    }
   ],
   "source": [
    "fig,ax = plt.subplots()\n",
    "ax.plot(X_b, bouncing_pdf)\n",
    "ax.set_title('PDF of uniform distribution')\n",
    "ax.set_xlabel('X')\n",
    "ax.set_ylabel('pdf')\n",
    "plt.show()"
   ]
  },
  {
   "cell_type": "markdown",
   "metadata": {
    "slideshow": {
     "slide_type": "slide"
    }
   },
   "source": [
    "- **Normal (Gaussian)**\n",
    "    - The bell curve. Governs many continuous variables.\n",
    "    - Particularly: variables made up of many random subfactors.\n",
    "    - heights in a population."
   ]
  },
  {
   "cell_type": "markdown",
   "metadata": {
    "heading_collapsed": true,
    "hidden": true,
    "slideshow": {
     "slide_type": "slide"
    }
   },
   "source": [
    "#### Sampling and the PDF with the normal distribution"
   ]
  },
  {
   "cell_type": "markdown",
   "metadata": {
    "cell_style": "split",
    "slideshow": {
     "slide_type": "subslide"
    }
   },
   "source": [
    "Mathematical form for pdf:\n",
    "$$ N(x | \\mu, \\sigma^2) = \\frac{1}{\\sqrt{2\\pi\\sigma^2}} e^{-\\frac{(x-\\mu)^2}{2\\sigma^2}} $$\n",
    "\n",
    "- $\\mu$ is mean.\n",
    "- $\\sigma$ is standard deviation."
   ]
  },
  {
   "cell_type": "markdown",
   "metadata": {
    "cell_style": "split",
    "slideshow": {
     "slide_type": "fragment"
    }
   },
   "source": [
    "- $\\mu$ governs position of mean of distribution\n",
    "- $\\sigma$ governs width of distribution"
   ]
  },
  {
   "cell_type": "markdown",
   "metadata": {
    "cell_style": "center",
    "slideshow": {
     "slide_type": "slide"
    }
   },
   "source": [
    "With scipy.stats:\n",
    "\n",
    "- norm.pdf(loc = mean, scale = std)\n",
    "- by default loc = 0 and scale = 1\n",
    "\n",
    "**The standard normal distribution**"
   ]
  },
  {
   "cell_type": "code",
   "execution_count": 30,
   "metadata": {
    "cell_style": "split",
    "slideshow": {
     "slide_type": "fragment"
    }
   },
   "outputs": [],
   "source": [
    "from scipy.stats import norm\n",
    "x = np.linspace(-4,4, 100)\n",
    "pdf_norm = norm.pdf(x)"
   ]
  },
  {
   "cell_type": "code",
   "execution_count": 31,
   "metadata": {
    "cell_style": "split",
    "slideshow": {
     "slide_type": "fragment"
    }
   },
   "outputs": [
    {
     "data": {
      "image/png": "[encoded data removed]",
      "text/plain": [
       "<Figure size 432x288 with 1 Axes>"
      ]
     },
     "metadata": {
      "needs_background": "light"
     },
     "output_type": "display_data"
    }
   ],
   "source": [
    "plt.plot(x, pdf_norm)\n",
    "plt.show()"
   ]
  },
  {
   "cell_type": "markdown",
   "metadata": {
    "slideshow": {
     "slide_type": "slide"
    }
   },
   "source": [
    "Screwing around with the distribution parameters:"
   ]
  },
  {
   "cell_type": "code",
   "execution_count": 32,
   "metadata": {
    "cell_style": "center",
    "slideshow": {
     "slide_type": "fragment"
    }
   },
   "outputs": [],
   "source": [
    "# Moving mean around\n",
    "mu_list = [-2,0,2]\n",
    "sigma = 1\n",
    "\n",
    "x = np.linspace(-7,7)\n",
    "y_list = [norm.pdf(x, loc = mu, scale = sigma)\n",
    "          for mu in mu_list]"
   ]
  },
  {
   "cell_type": "code",
   "execution_count": 33,
   "metadata": {
    "cell_style": "center",
    "slideshow": {
     "slide_type": "subslide"
    }
   },
   "outputs": [
    {
     "data": {
      "image/png": "[encoded data removed]",
      "text/plain": [
       "<Figure size 432x288 with 1 Axes>"
      ]
     },
     "metadata": {
      "needs_background": "light"
     },
     "output_type": "display_data"
    }
   ],
   "source": [
    "fig,ax = plt.subplots()\n",
    "[ax.plot(x,y) for y in y_list]\n",
    "plt.show()"
   ]
  },
  {
   "cell_type": "code",
   "execution_count": null,
   "metadata": {
    "cell_style": "center",
    "slideshow": {
     "slide_type": "subslide"
    }
   },
   "outputs": [],
   "source": [
    "# mess with std/variance\n",
    "mu = 0\n",
    "sigma_list = [1,2,4]\n",
    "\n",
    "x = np.linspace(-8,8)\n",
    "y_list = [norm.pdf(x, loc = mu, scale = sigma)\n",
    "          for sigma in sigma_list]"
   ]
  },
  {
   "cell_type": "code",
   "execution_count": null,
   "metadata": {
    "cell_style": "center",
    "slideshow": {
     "slide_type": "fragment"
    }
   },
   "outputs": [],
   "source": [
    "fig,ax = plt.subplots()\n",
    "[ax.plot(x,y) for y in y_list]\n",
    "plt.show()"
   ]
  },
  {
   "cell_type": "markdown",
   "metadata": {
    "hidden": true,
    "slideshow": {
     "slide_type": "subslide"
    }
   },
   "source": [
    "The variance/std describes how closely the points gathered around the mean.  \n",
    "- Low variance means tight and skinny, high variance short and wide."
   ]
  },
  {
   "cell_type": "markdown",
   "metadata": {
    "slideshow": {
     "slide_type": "slide"
    }
   },
   "source": [
    "The statistics of the standard normal:"
   ]
  },
  {
   "cell_type": "code",
   "execution_count": 34,
   "metadata": {
    "slideshow": {
     "slide_type": "-"
    }
   },
   "outputs": [
    {
     "data": {
      "text/plain": [
       "(array(0.), array(1.), array(0.), array(0.))"
      ]
     },
     "execution_count": 34,
     "metadata": {},
     "output_type": "execute_result"
    }
   ],
   "source": [
    "norm.stats(moments = 'mvsk')"
   ]
  },
  {
   "cell_type": "markdown",
   "metadata": {
    "slideshow": {
     "slide_type": "slide"
    }
   },
   "source": [
    "For non-standard normal:"
   ]
  },
  {
   "cell_type": "code",
   "execution_count": 35,
   "metadata": {
    "slideshow": {
     "slide_type": "-"
    }
   },
   "outputs": [
    {
     "data": {
      "text/plain": [
       "(array(2.), array(2.25), array(0.), array(0.))"
      ]
     },
     "execution_count": 35,
     "metadata": {},
     "output_type": "execute_result"
    }
   ],
   "source": [
    "norm.stats(loc = 2, scale = 1.5, moments = 'mvsk')"
   ]
  },
  {
   "cell_type": "markdown",
   "metadata": {
    "slideshow": {
     "slide_type": "fragment"
    }
   },
   "source": [
    "Skew, kurtosis, and in fact all higher order moments of pdf vanish."
   ]
  },
  {
   "cell_type": "markdown",
   "metadata": {
    "slideshow": {
     "slide_type": "slide"
    }
   },
   "source": [
    "#### Sampling from normal distribution\n",
    "\n",
    "- rvs method:"
   ]
  },
  {
   "cell_type": "code",
   "execution_count": 37,
   "metadata": {
    "scrolled": true,
    "slideshow": {
     "slide_type": "subslide"
    }
   },
   "outputs": [
    {
     "data": {
      "text/plain": [
       "array([ 6.30466495e-01, -1.37462170e+00, -1.44572675e-01,  3.46344242e-03,\n",
       "       -3.08754985e-01, -3.86322065e-01, -4.72686012e-02, -3.06881229e-01,\n",
       "        1.22446753e+00,  4.60079318e-01,  1.63367359e-01, -1.24236443e-01,\n",
       "        1.99818303e+00, -8.58168528e-01, -5.02807398e-01, -9.66340652e-01,\n",
       "       -1.17203210e-01,  1.20997164e+00,  6.33743104e-01, -9.23886006e-04,\n",
       "       -1.19387880e+00, -7.06626146e-01, -9.08458961e-01, -7.23250110e-01,\n",
       "       -2.34836544e-01,  7.49794971e-01, -1.06979015e+00,  5.14386677e-01,\n",
       "       -7.74098992e-01, -3.53897371e-01, -9.03895047e-01,  1.39100570e+00,\n",
       "       -1.35197998e-01,  1.43227391e+00, -8.51457330e-01, -1.12236530e+00,\n",
       "        9.62680028e-01,  2.52007390e-01, -7.18429877e-01,  3.48699837e-01,\n",
       "       -1.85899389e+00, -1.86431712e+00,  9.64500111e-01, -3.20708234e-01,\n",
       "        2.15038676e+00,  5.84986376e-01, -1.14003153e-01, -1.60329691e-02,\n",
       "        1.78512897e+00, -6.64559800e-01,  1.60870267e+00,  2.07638315e+00,\n",
       "        5.37987035e-01, -1.19883606e-01, -1.05304468e+00,  7.14063279e-01,\n",
       "       -2.24675700e+00,  2.28235312e+00, -8.72100451e-01,  4.11505425e-01,\n",
       "       -7.75685448e-01,  3.94217553e-01, -4.70494433e-01,  5.45324443e-01,\n",
       "       -1.15612309e+00, -1.65158051e+00,  2.20601149e-01,  1.84098737e-01,\n",
       "        3.58108814e-01, -1.37456954e+00,  1.10241822e+00,  2.45341579e+00,\n",
       "       -1.30033060e-01,  8.01607642e-01, -1.02848688e+00,  6.01721624e-01,\n",
       "       -6.17768732e-01,  2.02128275e-01,  1.29273858e+00,  9.91172187e-01,\n",
       "       -1.75116808e-01,  7.74403988e-01,  4.04665392e-01, -1.32787881e+00,\n",
       "        8.92191123e-01, -2.28814597e+00,  2.26418762e-01, -1.02317063e+00,\n",
       "        4.05225323e-01, -8.42279855e-02,  1.03755738e+00, -3.95503347e-01,\n",
       "       -1.14078477e+00,  5.60445691e-01,  1.69244300e+00,  3.19473969e-02,\n",
       "        1.58223029e+00, -1.40924498e-01, -4.14721091e-01,  1.03090402e-02])"
      ]
     },
     "execution_count": 37,
     "metadata": {},
     "output_type": "execute_result"
    }
   ],
   "source": [
    "# 20 random samples from normal with mean 0 and std 1.\n",
    "norm_sample = norm.rvs(loc = 0, scale = 1, size = 100)\n",
    "norm_sample"
   ]
  },
  {
   "cell_type": "markdown",
   "metadata": {
    "slideshow": {
     "slide_type": "subslide"
    }
   },
   "source": [
    "Looking at a histogram of sample:"
   ]
  },
  {
   "cell_type": "code",
   "execution_count": 38,
   "metadata": {
    "scrolled": true,
    "slideshow": {
     "slide_type": "fragment"
    }
   },
   "outputs": [
    {
     "data": {
      "image/png": "[encoded data removed]",
      "text/plain": [
       "<Figure size 432x288 with 1 Axes>"
      ]
     },
     "metadata": {
      "needs_background": "light"
     },
     "output_type": "display_data"
    }
   ],
   "source": [
    "plt.hist(norm_sample)\n",
    "plt.title('Histogram of normal distribution sample')\n",
    "plt.xlabel('X')\n",
    "plt.ylabel('Count')\n",
    "plt.show()"
   ]
  },
  {
   "cell_type": "markdown",
   "metadata": {
    "cell_style": "split",
    "slideshow": {
     "slide_type": "subslide"
    }
   },
   "source": [
    "- **Exponential**\n",
    "    - Uses to model the time elapsed between events.\n",
    "    - e.g. amount of time a postal clerk spends with a customer"
   ]
  },
  {
   "cell_type": "markdown",
   "metadata": {
    "cell_style": "split",
    "slideshow": {
     "slide_type": "-"
    }
   },
   "source": [
    "- Parameter is $\\tau$: \n",
    "    - mean time between events or wait time"
   ]
  },
  {
   "cell_type": "markdown",
   "metadata": {
    "slideshow": {
     "slide_type": "fragment"
    }
   },
   "source": [
    "Mathematically:\n",
    "    \n",
    "$$ P(t | \\tau) = e^{-t/\\tau} $$\n",
    "\n",
    "Probability of time between one event and the next."
   ]
  },
  {
   "cell_type": "markdown",
   "metadata": {
    "slideshow": {
     "slide_type": "slide"
    }
   },
   "source": [
    "Given a bus arrived:\n",
    "- pdf for time for next bus arriving"
   ]
  },
  {
   "cell_type": "markdown",
   "metadata": {
    "slideshow": {
     "slide_type": "subslide"
    }
   },
   "source": [
    "Scipy version:\n",
    "\n",
    "- expon.pdf has arguments loc and scale.\n",
    "- typically just set scale as average wait time $\\tau$."
   ]
  },
  {
   "cell_type": "code",
   "execution_count": 39,
   "metadata": {
    "cell_style": "split",
    "slideshow": {
     "slide_type": "fragment"
    }
   },
   "outputs": [],
   "source": [
    "from scipy.stats import expon\n",
    "\n",
    "tau = 3\n",
    "# loc defaults to zero\n",
    "t = np.linspace(0, 10, 1000)\n",
    "wait_time_pdf = expon.pdf(t, scale = tau)"
   ]
  },
  {
   "cell_type": "code",
   "execution_count": 40,
   "metadata": {
    "cell_style": "split",
    "slideshow": {
     "slide_type": "fragment"
    }
   },
   "outputs": [
    {
     "data": {
      "image/png": "[encoded data removed]",
      "text/plain": [
       "<Figure size 432x288 with 1 Axes>"
      ]
     },
     "metadata": {
      "needs_background": "light"
     },
     "output_type": "display_data"
    }
   ],
   "source": [
    "plt.plot(t, wait_time_pdf)\n",
    "plt.show()"
   ]
  },
  {
   "cell_type": "markdown",
   "metadata": {
    "slideshow": {
     "slide_type": "slide"
    }
   },
   "source": [
    "#### Standard command for getting statistics"
   ]
  },
  {
   "cell_type": "code",
   "execution_count": null,
   "metadata": {
    "slideshow": {
     "slide_type": "-"
    }
   },
   "outputs": [],
   "source": [
    "mean, variance = expon.stats(scale = tau)\n",
    "print(mean, variance)"
   ]
  },
  {
   "cell_type": "markdown",
   "metadata": {
    "cell_style": "center",
    "heading_collapsed": true,
    "slideshow": {
     "slide_type": "slide"
    }
   },
   "source": [
    "#### CDF: Cumulative Distribution Function\n",
    "Probability random variable <= a certain value. "
   ]
  },
  {
   "cell_type": "markdown",
   "metadata": {
    "cell_style": "split",
    "slideshow": {
     "slide_type": "fragment"
    }
   },
   "source": [
    "\n",
    "Mathematically, CDF is:\n",
    "\n",
    "$$F(x) = P(X\\leq x)$$"
   ]
  },
  {
   "cell_type": "markdown",
   "metadata": {
    "cell_style": "split",
    "slideshow": {
     "slide_type": "slide"
    }
   },
   "source": [
    "CDF exists for all probability distributions (discrete/continuous):\n",
    "\n",
    "\n",
    "**Applies to both continuous pds and discrete pmfs**\n",
    "\n"
   ]
  },
  {
   "cell_type": "markdown",
   "metadata": {
    "cell_style": "split",
    "slideshow": {
     "slide_type": "fragment"
    }
   },
   "source": [
    "Mathematically, CDF is:\n",
    "\n",
    "$$F(x) = P(X\\leq x)$$"
   ]
  },
  {
   "cell_type": "markdown",
   "metadata": {
    "cell_style": "split",
    "slideshow": {
     "slide_type": "slide"
    }
   },
   "source": [
    "Why use the CDF?\n",
    "- Continuous variables:\n",
    "- Actually reports probability\n",
    "- Simple arithmetic operations to calculate probability of given range."
   ]
  },
  {
   "cell_type": "markdown",
   "metadata": {
    "cell_style": "split",
    "slideshow": {
     "slide_type": "fragment"
    }
   },
   "source": [
    "Implicitly used in most hypothesis tests:\n",
    "- Calculate probability of a measured value or values more extreme\n",
    "- CDF yields whether measured value is likely under a given distribution."
   ]
  },
  {
   "cell_type": "markdown",
   "metadata": {
    "cell_style": "split",
    "slideshow": {
     "slide_type": "slide"
    }
   },
   "source": [
    "####  Discrete case:\n",
    "\n",
    "An ad-clicking example: \n",
    "\n",
    "- Use CDF to calculate probability of having <= 2 clicks in 50 random samples.\n",
    "- where $p = 0.1$ for a click.\n",
    "\n",
    "$$P(x \\leq 2)$$"
   ]
  },
  {
   "cell_type": "markdown",
   "metadata": {
    "cell_style": "split",
    "slideshow": {
     "slide_type": "fragment"
    }
   },
   "source": [
    "#### CDF in scipy.stats\n",
    "\n",
    "- scipy.stats.binom.cdf()\n",
    "\n",
    "- Generally, scipy.stats.distribution.cdf(arguments)\n"
   ]
  },
  {
   "cell_type": "code",
   "execution_count": null,
   "metadata": {
    "ExecuteTime": {
     "end_time": "2021-10-08T21:00:07.840276Z",
     "start_time": "2021-10-08T21:00:07.836086Z"
    },
    "slideshow": {
     "slide_type": "slide"
    }
   },
   "outputs": [],
   "source": [
    "# Create the random discrete value for the number of success\n",
    "\n",
    "n = 50\n",
    "p = 0.1\n",
    "\n",
    "# Calculate the probability for x equal or less than 2\n",
    "binom.cdf(2, n = n , p = p)"
   ]
  },
  {
   "cell_type": "markdown",
   "metadata": {
    "slideshow": {
     "slide_type": "slide"
    }
   },
   "source": [
    "Visualize pmf and cdf side by side"
   ]
  },
  {
   "cell_type": "code",
   "execution_count": null,
   "metadata": {
    "cell_style": "split",
    "slideshow": {
     "slide_type": "fragment"
    }
   },
   "outputs": [],
   "source": [
    "x = np.arange(0,15,1)\n",
    "y = binom.pmf(x, n = n , p = p)\n",
    "plt.stem(x, y, linefmt='b-', markerfmt='bo', basefmt='r-')\n",
    "plt.xlabel('Number of clicks')\n",
    "plt.ylabel('Probability')\n",
    "plt.title('PMF (Binomial): Clicks for 50 samples')\n",
    "plt.show()"
   ]
  },
  {
   "cell_type": "code",
   "execution_count": null,
   "metadata": {
    "cell_style": "split",
    "slideshow": {
     "slide_type": "fragment"
    }
   },
   "outputs": [],
   "source": [
    "cdf_y = binom.cdf(k = x, n=n, p=p)\n",
    "plt.plot(x, cdf_y, c = 'b', linestyle = '--')\n",
    "plt.xlabel('Number of clicks')\n",
    "plt.ylabel('P($X \\leq x$)')\n",
    "plt.title('CDF of binomial: Ad click rate')\n",
    "plt.show()"
   ]
  },
  {
   "cell_type": "markdown",
   "metadata": {
    "cell_style": "center",
    "slideshow": {
     "slide_type": "subslide"
    }
   },
   "source": [
    "- What is the probability of getting less than or equal to 8 clicks?"
   ]
  },
  {
   "cell_type": "code",
   "execution_count": null,
   "metadata": {
    "slideshow": {
     "slide_type": "fragment"
    }
   },
   "outputs": [],
   "source": [
    "binom.cdf(8, n = n, p = p)"
   ]
  },
  {
   "cell_type": "markdown",
   "metadata": {},
   "source": [
    "$$ P (X > 8) $$"
   ]
  },
  {
   "cell_type": "code",
   "execution_count": null,
   "metadata": {},
   "outputs": [],
   "source": [
    "binom.sf(8, n = n, p = p)"
   ]
  },
  {
   "cell_type": "markdown",
   "metadata": {
    "slideshow": {
     "slide_type": "fragment"
    }
   },
   "source": [
    "- Probability of getting less than infinity?\n",
    "(this is all possible values)"
   ]
  },
  {
   "cell_type": "code",
   "execution_count": null,
   "metadata": {
    "slideshow": {
     "slide_type": "fragment"
    }
   },
   "outputs": [],
   "source": [
    "binom.cdf(np.inf, n = n, p = p)"
   ]
  },
  {
   "cell_type": "code",
   "execution_count": null,
   "metadata": {
    "cell_style": "split",
    "slideshow": {
     "slide_type": "slide"
    }
   },
   "outputs": [],
   "source": [
    "cdf_y = binom.cdf(k = x, n=n, p=p)\n",
    "plt.plot(x, cdf_y, c = 'b', linestyle = '--')\n",
    "plt.xlabel('Number of clicks')\n",
    "plt.ylabel('Probability')\n",
    "plt.title('CDF of binomial: Ad click rate')\n",
    "plt.axvline(2, c = 'r', linestyle = '--')\n",
    "plt.axvline(4, c = 'r', linestyle = '--')\n",
    "plt.show()"
   ]
  },
  {
   "cell_type": "markdown",
   "metadata": {
    "cell_style": "split",
    "slideshow": {
     "slide_type": "slide"
    }
   },
   "source": [
    "What is probability of getting between 2 and 4?\n",
    "- $ P(x <= 4) - P(x<=2)$"
   ]
  },
  {
   "cell_type": "code",
   "execution_count": null,
   "metadata": {
    "cell_style": "split",
    "slideshow": {
     "slide_type": "fragment"
    }
   },
   "outputs": [],
   "source": [
    "Pless4 = binom.cdf(k = 4, n=n, p=p)  \n",
    "Pless2 = binom.cdf(k = 2, n=n, p=p)\n",
    "\n",
    "Pless4 - Pless2"
   ]
  },
  {
   "cell_type": "markdown",
   "metadata": {
    "slideshow": {
     "slide_type": "slide"
    }
   },
   "source": [
    "What is the probability that we have greater than 4 clicks?\n",
    "$$ P(x <= \\infty) - P(x<=4)$$"
   ]
  },
  {
   "cell_type": "markdown",
   "metadata": {
    "slideshow": {
     "slide_type": "fragment"
    }
   },
   "source": [
    "$$ 1 - P(x<=4) $$"
   ]
  },
  {
   "cell_type": "markdown",
   "metadata": {
    "slideshow": {
     "slide_type": "slide"
    }
   },
   "source": [
    "In python:"
   ]
  },
  {
   "cell_type": "code",
   "execution_count": null,
   "metadata": {
    "cell_style": "split",
    "slideshow": {
     "slide_type": "fragment"
    }
   },
   "outputs": [],
   "source": [
    "1 - binom.cdf(4, n, p)"
   ]
  },
  {
   "cell_type": "markdown",
   "metadata": {
    "cell_style": "split",
    "slideshow": {
     "slide_type": "fragment"
    }
   },
   "source": [
    "Equivalently, though faster:\n",
    "- $P(X >x)$ as survival function: distribution.sf()"
   ]
  },
  {
   "cell_type": "code",
   "execution_count": null,
   "metadata": {
    "cell_style": "split",
    "scrolled": true,
    "slideshow": {
     "slide_type": "fragment"
    }
   },
   "outputs": [],
   "source": [
    "binom.sf(4, n , p)"
   ]
  },
  {
   "cell_type": "markdown",
   "metadata": {
    "slideshow": {
     "slide_type": "fragment"
    }
   },
   "source": [
    "5\\% chance of getting greater than 4 clicks in 50 randomized user-site interactions."
   ]
  },
  {
   "cell_type": "markdown",
   "metadata": {
    "slideshow": {
     "slide_type": "slide"
    }
   },
   "source": [
    "Generally:\n",
    "$$ P(X > x) = 1 - P(X <= x) $$\n",
    "\n",
    "<center>1 - distribution.cdf(x, parameters) </center>"
   ]
  },
  {
   "cell_type": "markdown",
   "metadata": {
    "cell_style": "split",
    "slideshow": {
     "slide_type": "slide"
    }
   },
   "source": [
    "#### Continuous Distribution\n",
    "- CDF of the normal distribution\n",
    "\n",
    "Example case: distribution of heights. \n",
    "\n",
    "We observe the mean is 5.5 ft with a standard deviation of 0.5 ft.\n",
    "\n",
    "Model with normal distribution."
   ]
  },
  {
   "cell_type": "code",
   "execution_count": null,
   "metadata": {
    "cell_style": "split",
    "slideshow": {
     "slide_type": "fragment"
    }
   },
   "outputs": [],
   "source": [
    "mu = 5.5 # mean\n",
    "sigma = 0.5 # standard deviation\n",
    "\n",
    "x = np.linspace(2,9)\n",
    "y_norm = norm.pdf(x, loc = mu, scale = sigma)\n",
    "plt.plot(x, y_norm)\n",
    "plt.xlabel('Height (ft.)')\n",
    "plt.ylabel('PDF')\n",
    "plt.title('PDF:  Normally distributed Heights')\n",
    "plt.show()\n"
   ]
  },
  {
   "cell_type": "markdown",
   "metadata": {
    "cell_style": "center",
    "slideshow": {
     "slide_type": "slide"
    }
   },
   "source": [
    "Probability that height <= 4.7:"
   ]
  },
  {
   "cell_type": "code",
   "execution_count": null,
   "metadata": {
    "cell_style": "split",
    "scrolled": true,
    "slideshow": {
     "slide_type": "subslide"
    }
   },
   "outputs": [],
   "source": [
    "mu = 5.5 # mean\n",
    "sigma = 0.5 # standard deviation\n",
    "\n",
    "x = np.linspace(2,9, num = 100)\n",
    "y_norm = norm.pdf(x, loc = mu, scale = sigma)\n",
    "plt.plot(x, y_norm)\n",
    "plt.fill_between(x,y_norm, where = (x <= 4.7), color='r')\n",
    "plt.axvline(x = 4.7, c = 'r', linestyle = '--')\n",
    "plt.xlabel('Height (ft.)')\n",
    "plt.ylabel('PDF')\n",
    "plt.title('PDF:  Normally distributed Heights')\n",
    "plt.show()"
   ]
  },
  {
   "cell_type": "code",
   "execution_count": null,
   "metadata": {
    "cell_style": "split",
    "slideshow": {
     "slide_type": "fragment"
    }
   },
   "outputs": [],
   "source": [
    "mu = 5.5 # mean\n",
    "sigma = 0.5 # standard deviation\n",
    "\n",
    "x = np.linspace(2,9, num = 100)\n",
    "y_norm_cdf = norm.cdf(x, loc = mu, scale = sigma)\n",
    "plt.plot(x, y_norm_cdf)\n",
    "plt.axvline(x = 4.7, c = 'r', linestyle = '--')\n",
    "plt.xlabel('Height (ft.)')\n",
    "plt.ylabel('CDF')\n",
    "plt.title('CDF:  Normally distributed Heights')\n",
    "plt.show()"
   ]
  },
  {
   "cell_type": "markdown",
   "metadata": {
    "slideshow": {
     "slide_type": "slide"
    }
   },
   "source": [
    "#### Continuous variables\n",
    "\n",
    "- Value of cdf at x = 4.7\n",
    "- area under pdf at x <= 4.7"
   ]
  },
  {
   "cell_type": "code",
   "execution_count": null,
   "metadata": {
    "cell_style": "center",
    "slideshow": {
     "slide_type": "-"
    }
   },
   "outputs": [],
   "source": [
    "norm.cdf(4.7, loc = mu, scale = 0.5 )"
   ]
  },
  {
   "cell_type": "markdown",
   "metadata": {
    "slideshow": {
     "slide_type": "slide"
    }
   },
   "source": [
    "Probability that height is greater than 4.5 ft and less than 6 ft?\n",
    "- Help me out. Use cdf."
   ]
  },
  {
   "cell_type": "code",
   "execution_count": null,
   "metadata": {
    "slideshow": {
     "slide_type": "subslide"
    }
   },
   "outputs": [],
   "source": [
    "mu = 5.5 # mean\n",
    "sigma = 0.5 # standard deviation\n",
    "\n",
    "x = np.linspace(2,9, num = 100)\n",
    "y_norm = norm.pdf(x, loc = mu, scale = sigma)\n",
    "plt.plot(x, y_norm)\n",
    "plt.fill_between(x,y_norm, where = (x <= 4.7), color='r', alpha = 0.2)\n",
    "plt.fill_between(x,y_norm, where = (x <= 6), color='b', alpha = 0.2)\n",
    "plt.axvline(x = 4.7, c = 'r', linestyle = '--')\n",
    "plt.axvline(x = 6, c = 'b', linestyle = '--')\n",
    "plt.xlabel('Height (ft.)')\n",
    "plt.ylabel('PDF')\n",
    "plt.title('PDF:  Normally distributed Heights')\n",
    "plt.show()"
   ]
  },
  {
   "cell_type": "code",
   "execution_count": null,
   "metadata": {
    "cell_style": "center"
   },
   "outputs": [],
   "source": [
    "# mu is defined as mean already, set scale to 0.5 (std)\n",
    "mu = 5.5\n",
    "stdev = 0.5\n",
    "\n",
    "norm.cdf(6, loc = mu, scale = stdev) - norm.cdf(4.7, loc = mu, scale = stdev )"
   ]
  },
  {
   "cell_type": "code",
   "execution_count": null,
   "metadata": {},
   "outputs": [],
   "source": [
    "norm.pdf(8, loc = mu, scale = stdev )"
   ]
  }
 ],
 "metadata": {
  "celltoolbar": "Slideshow",
  "kernelspec": {
   "display_name": "Python 3",
   "language": "python",
   "name": "python3"
  },
  "language_info": {
   "codemirror_mode": {
    "name": "ipython",
    "version": 3
   },
   "file_extension": ".py",
   "mimetype": "text/x-python",
   "name": "python",
   "nbconvert_exporter": "python",
   "pygments_lexer": "ipython3",
   "version": "3.8.5"
  }
 },
 "nbformat": 4,
 "nbformat_minor": 4
}
